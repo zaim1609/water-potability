{
 "cells": [
  {
   "cell_type": "code",
   "execution_count": 1,
   "id": "08eeda2e",
   "metadata": {
    "_cell_guid": "b1076dfc-b9ad-4769-8c92-a6c4dae69d19",
    "_uuid": "8f2839f25d086af736a60e9eeb907d3b93b6e0e5",
    "execution": {
     "iopub.execute_input": "2021-07-14T04:41:01.217190Z",
     "iopub.status.busy": "2021-07-14T04:41:01.216020Z",
     "iopub.status.idle": "2021-07-14T04:41:01.239985Z",
     "shell.execute_reply": "2021-07-14T04:41:01.241017Z",
     "shell.execute_reply.started": "2021-07-14T04:25:23.769241Z"
    },
    "papermill": {
     "duration": 0.042472,
     "end_time": "2021-07-14T04:41:01.241474",
     "exception": false,
     "start_time": "2021-07-14T04:41:01.199002",
     "status": "completed"
    },
    "tags": []
   },
   "outputs": [
    {
     "name": "stdout",
     "output_type": "stream",
     "text": [
      "/kaggle/input/water-potability/water_potability.csv\n"
     ]
    }
   ],
   "source": [
    "# This Python 3 environment comes with many helpful analytics libraries installed\n",
    "# It is defined by the kaggle/python Docker image: https://github.com/kaggle/docker-python\n",
    "# For example, here's several helpful packages to load\n",
    "# i dont know this code true or false i just wanna try\n",
    "\n",
    "import numpy as np # linear algebra\n",
    "import pandas as pd # data processing, CSV file I/O (e.g. pd.read_csv)\n",
    "\n",
    "# Input data files are available in the read-only \"../input/\" directory\n",
    "# For example, running this (by clicking run or pressing Shift+Enter) will list all files under the input directory\n",
    "\n",
    "import os\n",
    "for dirname, _, filenames in os.walk('/kaggle/input'):\n",
    "    for filename in filenames:\n",
    "        print(os.path.join(dirname, filename))\n",
    "\n",
    "# You can write up to 20GB to the current directory (/kaggle/working/) that gets preserved as output when you create a version using \"Save & Run All\" \n",
    "# You can also write temporary files to /kaggle/temp/, but they won't be saved outside of the current session"
   ]
  },
  {
   "cell_type": "code",
   "execution_count": 2,
   "id": "68333caf",
   "metadata": {
    "execution": {
     "iopub.execute_input": "2021-07-14T04:41:01.271700Z",
     "iopub.status.busy": "2021-07-14T04:41:01.271072Z",
     "iopub.status.idle": "2021-07-14T04:41:01.435022Z",
     "shell.execute_reply": "2021-07-14T04:41:01.435542Z",
     "shell.execute_reply.started": "2021-07-14T04:25:23.783231Z"
    },
    "papermill": {
     "duration": 0.179766,
     "end_time": "2021-07-14T04:41:01.435738",
     "exception": false,
     "start_time": "2021-07-14T04:41:01.255972",
     "status": "completed"
    },
    "tags": []
   },
   "outputs": [
    {
     "data": {
      "text/html": [
       "<div>\n",
       "<style scoped>\n",
       "    .dataframe tbody tr th:only-of-type {\n",
       "        vertical-align: middle;\n",
       "    }\n",
       "\n",
       "    .dataframe tbody tr th {\n",
       "        vertical-align: top;\n",
       "    }\n",
       "\n",
       "    .dataframe thead th {\n",
       "        text-align: right;\n",
       "    }\n",
       "</style>\n",
       "<table border=\"1\" class=\"dataframe\">\n",
       "  <thead>\n",
       "    <tr style=\"text-align: right;\">\n",
       "      <th></th>\n",
       "      <th>ph</th>\n",
       "      <th>Hardness</th>\n",
       "      <th>Solids</th>\n",
       "      <th>Chloramines</th>\n",
       "      <th>Sulfate</th>\n",
       "      <th>Conductivity</th>\n",
       "      <th>Organic_carbon</th>\n",
       "      <th>Trihalomethanes</th>\n",
       "      <th>Turbidity</th>\n",
       "      <th>Potability</th>\n",
       "    </tr>\n",
       "  </thead>\n",
       "  <tbody>\n",
       "    <tr>\n",
       "      <th>0</th>\n",
       "      <td>NaN</td>\n",
       "      <td>204.890455</td>\n",
       "      <td>20791.318981</td>\n",
       "      <td>7.300212</td>\n",
       "      <td>368.516441</td>\n",
       "      <td>564.308654</td>\n",
       "      <td>10.379783</td>\n",
       "      <td>86.990970</td>\n",
       "      <td>2.963135</td>\n",
       "      <td>0</td>\n",
       "    </tr>\n",
       "    <tr>\n",
       "      <th>1</th>\n",
       "      <td>3.716080</td>\n",
       "      <td>129.422921</td>\n",
       "      <td>18630.057858</td>\n",
       "      <td>6.635246</td>\n",
       "      <td>NaN</td>\n",
       "      <td>592.885359</td>\n",
       "      <td>15.180013</td>\n",
       "      <td>56.329076</td>\n",
       "      <td>4.500656</td>\n",
       "      <td>0</td>\n",
       "    </tr>\n",
       "    <tr>\n",
       "      <th>2</th>\n",
       "      <td>8.099124</td>\n",
       "      <td>224.236259</td>\n",
       "      <td>19909.541732</td>\n",
       "      <td>9.275884</td>\n",
       "      <td>NaN</td>\n",
       "      <td>418.606213</td>\n",
       "      <td>16.868637</td>\n",
       "      <td>66.420093</td>\n",
       "      <td>3.055934</td>\n",
       "      <td>0</td>\n",
       "    </tr>\n",
       "    <tr>\n",
       "      <th>3</th>\n",
       "      <td>8.316766</td>\n",
       "      <td>214.373394</td>\n",
       "      <td>22018.417441</td>\n",
       "      <td>8.059332</td>\n",
       "      <td>356.886136</td>\n",
       "      <td>363.266516</td>\n",
       "      <td>18.436524</td>\n",
       "      <td>100.341674</td>\n",
       "      <td>4.628771</td>\n",
       "      <td>0</td>\n",
       "    </tr>\n",
       "    <tr>\n",
       "      <th>4</th>\n",
       "      <td>9.092223</td>\n",
       "      <td>181.101509</td>\n",
       "      <td>17978.986339</td>\n",
       "      <td>6.546600</td>\n",
       "      <td>310.135738</td>\n",
       "      <td>398.410813</td>\n",
       "      <td>11.558279</td>\n",
       "      <td>31.997993</td>\n",
       "      <td>4.075075</td>\n",
       "      <td>0</td>\n",
       "    </tr>\n",
       "  </tbody>\n",
       "</table>\n",
       "</div>"
      ],
      "text/plain": [
       "         ph    Hardness        Solids  Chloramines     Sulfate  Conductivity  \\\n",
       "0       NaN  204.890455  20791.318981     7.300212  368.516441    564.308654   \n",
       "1  3.716080  129.422921  18630.057858     6.635246         NaN    592.885359   \n",
       "2  8.099124  224.236259  19909.541732     9.275884         NaN    418.606213   \n",
       "3  8.316766  214.373394  22018.417441     8.059332  356.886136    363.266516   \n",
       "4  9.092223  181.101509  17978.986339     6.546600  310.135738    398.410813   \n",
       "\n",
       "   Organic_carbon  Trihalomethanes  Turbidity  Potability  \n",
       "0       10.379783        86.990970   2.963135           0  \n",
       "1       15.180013        56.329076   4.500656           0  \n",
       "2       16.868637        66.420093   3.055934           0  \n",
       "3       18.436524       100.341674   4.628771           0  \n",
       "4       11.558279        31.997993   4.075075           0  "
      ]
     },
     "execution_count": 2,
     "metadata": {},
     "output_type": "execute_result"
    }
   ],
   "source": [
    "#mengambil data water\n",
    "#metode yang di pakai adalah decisiontree\n",
    "\n",
    "df = pd.read_csv('../input/water-potability/water_potability.csv')\n",
    "df.head()"
   ]
  },
  {
   "cell_type": "code",
   "execution_count": 3,
   "id": "68d32533",
   "metadata": {
    "execution": {
     "iopub.execute_input": "2021-07-14T04:41:01.470290Z",
     "iopub.status.busy": "2021-07-14T04:41:01.469587Z",
     "iopub.status.idle": "2021-07-14T04:41:01.473772Z",
     "shell.execute_reply": "2021-07-14T04:41:01.473222Z",
     "shell.execute_reply.started": "2021-07-14T04:25:23.832656Z"
    },
    "papermill": {
     "duration": 0.024892,
     "end_time": "2021-07-14T04:41:01.473914",
     "exception": false,
     "start_time": "2021-07-14T04:41:01.449022",
     "status": "completed"
    },
    "tags": []
   },
   "outputs": [
    {
     "data": {
      "text/plain": [
       "ph                 491\n",
       "Hardness             0\n",
       "Solids               0\n",
       "Chloramines          0\n",
       "Sulfate            781\n",
       "Conductivity         0\n",
       "Organic_carbon       0\n",
       "Trihalomethanes    162\n",
       "Turbidity            0\n",
       "Potability           0\n",
       "dtype: int64"
      ]
     },
     "execution_count": 3,
     "metadata": {},
     "output_type": "execute_result"
    }
   ],
   "source": [
    "#mengecek fariable kosong\n",
    "df.isnull().sum()"
   ]
  },
  {
   "cell_type": "code",
   "execution_count": 4,
   "id": "0b840110",
   "metadata": {
    "execution": {
     "iopub.execute_input": "2021-07-14T04:41:01.511537Z",
     "iopub.status.busy": "2021-07-14T04:41:01.510812Z",
     "iopub.status.idle": "2021-07-14T04:41:01.514674Z",
     "shell.execute_reply": "2021-07-14T04:41:01.514010Z",
     "shell.execute_reply.started": "2021-07-14T04:25:23.844682Z"
    },
    "papermill": {
     "duration": 0.027257,
     "end_time": "2021-07-14T04:41:01.514822",
     "exception": false,
     "start_time": "2021-07-14T04:41:01.487565",
     "status": "completed"
    },
    "tags": []
   },
   "outputs": [],
   "source": [
    "#ph values are evenly distributed so we can use mean\n",
    "df['ph'].fillna(df['ph'].mean(),inplace=True)\n",
    "#sulphate values are slightly on the right side and it has outliers which may affect mean hence we will use median here\n",
    "df['Sulfate'].fillna(df['Sulfate'].median(),inplace=True)\n",
    "#Trihalomethanes values are evenly distributed so we will use mean\n",
    "df['Trihalomethanes'].fillna(df['Trihalomethanes'].mean(),inplace=True)"
   ]
  },
  {
   "cell_type": "code",
   "execution_count": 5,
   "id": "42795cbf",
   "metadata": {
    "execution": {
     "iopub.execute_input": "2021-07-14T04:41:01.550556Z",
     "iopub.status.busy": "2021-07-14T04:41:01.549651Z",
     "iopub.status.idle": "2021-07-14T04:41:01.553220Z",
     "shell.execute_reply": "2021-07-14T04:41:01.553802Z",
     "shell.execute_reply.started": "2021-07-14T04:25:23.860356Z"
    },
    "papermill": {
     "duration": 0.025313,
     "end_time": "2021-07-14T04:41:01.553997",
     "exception": false,
     "start_time": "2021-07-14T04:41:01.528684",
     "status": "completed"
    },
    "tags": []
   },
   "outputs": [
    {
     "data": {
      "text/plain": [
       "ph                 0\n",
       "Hardness           0\n",
       "Solids             0\n",
       "Chloramines        0\n",
       "Sulfate            0\n",
       "Conductivity       0\n",
       "Organic_carbon     0\n",
       "Trihalomethanes    0\n",
       "Turbidity          0\n",
       "Potability         0\n",
       "dtype: int64"
      ]
     },
     "execution_count": 5,
     "metadata": {},
     "output_type": "execute_result"
    }
   ],
   "source": [
    "#mengecek fariable kosong\n",
    "df.isnull().sum()"
   ]
  },
  {
   "cell_type": "code",
   "execution_count": 6,
   "id": "0996250b",
   "metadata": {
    "execution": {
     "iopub.execute_input": "2021-07-14T04:41:01.597554Z",
     "iopub.status.busy": "2021-07-14T04:41:01.596720Z",
     "iopub.status.idle": "2021-07-14T04:41:01.600412Z",
     "shell.execute_reply": "2021-07-14T04:41:01.599724Z",
     "shell.execute_reply.started": "2021-07-14T04:25:23.877522Z"
    },
    "papermill": {
     "duration": 0.032605,
     "end_time": "2021-07-14T04:41:01.600573",
     "exception": false,
     "start_time": "2021-07-14T04:41:01.567968",
     "status": "completed"
    },
    "tags": []
   },
   "outputs": [],
   "source": [
    "#memisahkan X dan y\n",
    "\n",
    "X = df[['ph','Hardness','Solids','Chloramines','Sulfate','Conductivity','Organic_carbon',\n",
    "        'Trihalomethanes','Turbidity']]\n",
    "y = df[['Potability']]"
   ]
  },
  {
   "cell_type": "code",
   "execution_count": 7,
   "id": "a1c537b5",
   "metadata": {
    "execution": {
     "iopub.execute_input": "2021-07-14T04:41:01.642919Z",
     "iopub.status.busy": "2021-07-14T04:41:01.642187Z",
     "iopub.status.idle": "2021-07-14T04:41:02.846223Z",
     "shell.execute_reply": "2021-07-14T04:41:02.845455Z",
     "shell.execute_reply.started": "2021-07-14T04:25:23.890883Z"
    },
    "papermill": {
     "duration": 1.227467,
     "end_time": "2021-07-14T04:41:02.846380",
     "exception": false,
     "start_time": "2021-07-14T04:41:01.618913",
     "status": "completed"
    },
    "tags": []
   },
   "outputs": [],
   "source": [
    "#memanggil library untuk decisiontree\n",
    "from sklearn.tree import DecisionTreeClassifier"
   ]
  },
  {
   "cell_type": "code",
   "execution_count": 8,
   "id": "094c74cb",
   "metadata": {
    "execution": {
     "iopub.execute_input": "2021-07-14T04:41:02.882630Z",
     "iopub.status.busy": "2021-07-14T04:41:02.881616Z",
     "iopub.status.idle": "2021-07-14T04:41:02.941584Z",
     "shell.execute_reply": "2021-07-14T04:41:02.940882Z",
     "shell.execute_reply.started": "2021-07-14T04:25:23.903549Z"
    },
    "papermill": {
     "duration": 0.081267,
     "end_time": "2021-07-14T04:41:02.941752",
     "exception": false,
     "start_time": "2021-07-14T04:41:02.860485",
     "status": "completed"
    },
    "tags": []
   },
   "outputs": [
    {
     "data": {
      "text/plain": [
       "DecisionTreeClassifier()"
      ]
     },
     "execution_count": 8,
     "metadata": {},
     "output_type": "execute_result"
    }
   ],
   "source": [
    "tree_model = DecisionTreeClassifier()\n",
    "tree_model.fit(X,y)"
   ]
  },
  {
   "cell_type": "code",
   "execution_count": 9,
   "id": "8cefe573",
   "metadata": {
    "execution": {
     "iopub.execute_input": "2021-07-14T04:41:02.977423Z",
     "iopub.status.busy": "2021-07-14T04:41:02.976491Z",
     "iopub.status.idle": "2021-07-14T04:41:02.981727Z",
     "shell.execute_reply": "2021-07-14T04:41:02.981133Z",
     "shell.execute_reply.started": "2021-07-14T04:25:23.975040Z"
    },
    "papermill": {
     "duration": 0.025619,
     "end_time": "2021-07-14T04:41:02.981870",
     "exception": false,
     "start_time": "2021-07-14T04:41:02.956251",
     "status": "completed"
    },
    "tags": []
   },
   "outputs": [
    {
     "data": {
      "text/plain": [
       "array([1])"
      ]
     },
     "execution_count": 9,
     "metadata": {},
     "output_type": "execute_result"
    }
   ],
   "source": [
    "tree_model.predict([[3.45,81.0,12345.6,3.4,123.0,111.0,9.8,11.3,2.9]])"
   ]
  },
  {
   "cell_type": "code",
   "execution_count": 10,
   "id": "a41360fd",
   "metadata": {
    "execution": {
     "iopub.execute_input": "2021-07-14T04:41:03.017922Z",
     "iopub.status.busy": "2021-07-14T04:41:03.017308Z",
     "iopub.status.idle": "2021-07-14T04:41:03.023849Z",
     "shell.execute_reply": "2021-07-14T04:41:03.023339Z",
     "shell.execute_reply.started": "2021-07-14T04:25:23.986016Z"
    },
    "papermill": {
     "duration": 0.027578,
     "end_time": "2021-07-14T04:41:03.023998",
     "exception": false,
     "start_time": "2021-07-14T04:41:02.996420",
     "status": "completed"
    },
    "tags": []
   },
   "outputs": [
    {
     "data": {
      "text/plain": [
       "1.0"
      ]
     },
     "execution_count": 10,
     "metadata": {},
     "output_type": "execute_result"
    }
   ],
   "source": [
    "tree_model.score(X,y)"
   ]
  },
  {
   "cell_type": "code",
   "execution_count": 11,
   "id": "1dbbbdab",
   "metadata": {
    "execution": {
     "iopub.execute_input": "2021-07-14T04:41:03.061646Z",
     "iopub.status.busy": "2021-07-14T04:41:03.060662Z",
     "iopub.status.idle": "2021-07-14T04:41:03.078977Z",
     "shell.execute_reply": "2021-07-14T04:41:03.078505Z",
     "shell.execute_reply.started": "2021-07-14T04:29:37.036772Z"
    },
    "papermill": {
     "duration": 0.040354,
     "end_time": "2021-07-14T04:41:03.079138",
     "exception": false,
     "start_time": "2021-07-14T04:41:03.038784",
     "status": "completed"
    },
    "tags": []
   },
   "outputs": [
    {
     "data": {
      "text/html": [
       "<div>\n",
       "<style scoped>\n",
       "    .dataframe tbody tr th:only-of-type {\n",
       "        vertical-align: middle;\n",
       "    }\n",
       "\n",
       "    .dataframe tbody tr th {\n",
       "        vertical-align: top;\n",
       "    }\n",
       "\n",
       "    .dataframe thead th {\n",
       "        text-align: right;\n",
       "    }\n",
       "</style>\n",
       "<table border=\"1\" class=\"dataframe\">\n",
       "  <thead>\n",
       "    <tr style=\"text-align: right;\">\n",
       "      <th></th>\n",
       "      <th>ph</th>\n",
       "      <th>Hardness</th>\n",
       "      <th>Solids</th>\n",
       "      <th>Chloramines</th>\n",
       "      <th>Sulfate</th>\n",
       "      <th>Conductivity</th>\n",
       "      <th>Organic_carbon</th>\n",
       "      <th>Trihalomethanes</th>\n",
       "      <th>Turbidity</th>\n",
       "    </tr>\n",
       "  </thead>\n",
       "  <tbody>\n",
       "    <tr>\n",
       "      <th>0</th>\n",
       "      <td>-1.027333e-14</td>\n",
       "      <td>0.259195</td>\n",
       "      <td>-0.139471</td>\n",
       "      <td>0.112415</td>\n",
       "      <td>0.965957</td>\n",
       "      <td>1.708954</td>\n",
       "      <td>-1.180651</td>\n",
       "      <td>1.306149</td>\n",
       "      <td>-1.286298</td>\n",
       "    </tr>\n",
       "    <tr>\n",
       "      <th>1</th>\n",
       "      <td>-2.289339e+00</td>\n",
       "      <td>-2.036414</td>\n",
       "      <td>-0.385987</td>\n",
       "      <td>-0.307694</td>\n",
       "      <td>-0.014799</td>\n",
       "      <td>2.062575</td>\n",
       "      <td>0.270597</td>\n",
       "      <td>-0.638480</td>\n",
       "      <td>0.684218</td>\n",
       "    </tr>\n",
       "    <tr>\n",
       "      <th>2</th>\n",
       "      <td>6.928678e-01</td>\n",
       "      <td>0.847665</td>\n",
       "      <td>-0.240047</td>\n",
       "      <td>1.360594</td>\n",
       "      <td>-0.014799</td>\n",
       "      <td>-0.094032</td>\n",
       "      <td>0.781117</td>\n",
       "      <td>0.001509</td>\n",
       "      <td>-1.167365</td>\n",
       "    </tr>\n",
       "    <tr>\n",
       "      <th>3</th>\n",
       "      <td>8.409504e-01</td>\n",
       "      <td>0.547651</td>\n",
       "      <td>0.000493</td>\n",
       "      <td>0.592008</td>\n",
       "      <td>0.644130</td>\n",
       "      <td>-0.778830</td>\n",
       "      <td>1.255134</td>\n",
       "      <td>2.152874</td>\n",
       "      <td>0.848412</td>\n",
       "    </tr>\n",
       "    <tr>\n",
       "      <th>4</th>\n",
       "      <td>1.368569e+00</td>\n",
       "      <td>-0.464429</td>\n",
       "      <td>-0.460249</td>\n",
       "      <td>-0.363698</td>\n",
       "      <td>-0.649522</td>\n",
       "      <td>-0.343939</td>\n",
       "      <td>-0.824357</td>\n",
       "      <td>-2.181599</td>\n",
       "      <td>0.138786</td>\n",
       "    </tr>\n",
       "  </tbody>\n",
       "</table>\n",
       "</div>"
      ],
      "text/plain": [
       "             ph  Hardness    Solids  Chloramines   Sulfate  Conductivity  \\\n",
       "0 -1.027333e-14  0.259195 -0.139471     0.112415  0.965957      1.708954   \n",
       "1 -2.289339e+00 -2.036414 -0.385987    -0.307694 -0.014799      2.062575   \n",
       "2  6.928678e-01  0.847665 -0.240047     1.360594 -0.014799     -0.094032   \n",
       "3  8.409504e-01  0.547651  0.000493     0.592008  0.644130     -0.778830   \n",
       "4  1.368569e+00 -0.464429 -0.460249    -0.363698 -0.649522     -0.343939   \n",
       "\n",
       "   Organic_carbon  Trihalomethanes  Turbidity  \n",
       "0       -1.180651         1.306149  -1.286298  \n",
       "1        0.270597        -0.638480   0.684218  \n",
       "2        0.781117         0.001509  -1.167365  \n",
       "3        1.255134         2.152874   0.848412  \n",
       "4       -0.824357        -2.181599   0.138786  "
      ]
     },
     "execution_count": 11,
     "metadata": {},
     "output_type": "execute_result"
    }
   ],
   "source": [
    "#logistik linear\n",
    "\n",
    "#melakukan normalisasi terhadap data yang kita miliki\n",
    "from sklearn.preprocessing import StandardScaler\n",
    "scaler = StandardScaler()\n",
    "scaler.fit(X)\n",
    "scaled_data = scaler.transform(X)\n",
    "scaled_data = pd.DataFrame(scaled_data, columns= X.columns)\n",
    "scaled_data.head()"
   ]
  },
  {
   "cell_type": "code",
   "execution_count": 12,
   "id": "303c29ba",
   "metadata": {
    "execution": {
     "iopub.execute_input": "2021-07-14T04:41:03.116123Z",
     "iopub.status.busy": "2021-07-14T04:41:03.115480Z",
     "iopub.status.idle": "2021-07-14T04:41:03.121100Z",
     "shell.execute_reply": "2021-07-14T04:41:03.120480Z",
     "shell.execute_reply.started": "2021-07-14T04:30:39.744761Z"
    },
    "papermill": {
     "duration": 0.026942,
     "end_time": "2021-07-14T04:41:03.121234",
     "exception": false,
     "start_time": "2021-07-14T04:41:03.094292",
     "status": "completed"
    },
    "tags": []
   },
   "outputs": [],
   "source": [
    "from sklearn.model_selection import train_test_split\n",
    " \n",
    "# bagi data menjadi train dan test untuk setiap atribut dan label\n",
    "X_train, X_test, y_train, y_test = train_test_split(scaled_data, y, test_size=0.2, random_state=1)"
   ]
  },
  {
   "cell_type": "code",
   "execution_count": 13,
   "id": "beddbe35",
   "metadata": {
    "execution": {
     "iopub.execute_input": "2021-07-14T04:41:03.159149Z",
     "iopub.status.busy": "2021-07-14T04:41:03.158530Z",
     "iopub.status.idle": "2021-07-14T04:41:03.341546Z",
     "shell.execute_reply": "2021-07-14T04:41:03.342505Z",
     "shell.execute_reply.started": "2021-07-14T04:30:56.215641Z"
    },
    "papermill": {
     "duration": 0.20644,
     "end_time": "2021-07-14T04:41:03.342761",
     "exception": false,
     "start_time": "2021-07-14T04:41:03.136321",
     "status": "completed"
    },
    "tags": []
   },
   "outputs": [
    {
     "name": "stderr",
     "output_type": "stream",
     "text": [
      "/opt/conda/lib/python3.7/site-packages/sklearn/utils/validation.py:72: DataConversionWarning: A column-vector y was passed when a 1d array was expected. Please change the shape of y to (n_samples, ), for example using ravel().\n",
      "  return f(**kwargs)\n"
     ]
    },
    {
     "data": {
      "text/plain": [
       "LogisticRegression()"
      ]
     },
     "execution_count": 13,
     "metadata": {},
     "output_type": "execute_result"
    }
   ],
   "source": [
    "from sklearn import linear_model\n",
    " \n",
    "# latih model dengan fungsi fit\n",
    "model = linear_model.LogisticRegression()\n",
    "model.fit(X_train, y_train)"
   ]
  },
  {
   "cell_type": "code",
   "execution_count": 14,
   "id": "6ed3ba09",
   "metadata": {
    "execution": {
     "iopub.execute_input": "2021-07-14T04:41:03.404964Z",
     "iopub.status.busy": "2021-07-14T04:41:03.404003Z",
     "iopub.status.idle": "2021-07-14T04:41:03.413554Z",
     "shell.execute_reply": "2021-07-14T04:41:03.414497Z",
     "shell.execute_reply.started": "2021-07-14T04:31:28.069711Z"
    },
    "papermill": {
     "duration": 0.044587,
     "end_time": "2021-07-14T04:41:03.414751",
     "exception": false,
     "start_time": "2021-07-14T04:41:03.370164",
     "status": "completed"
    },
    "tags": []
   },
   "outputs": [
    {
     "data": {
      "text/plain": [
       "0.5685975609756098"
      ]
     },
     "execution_count": 14,
     "metadata": {},
     "output_type": "execute_result"
    }
   ],
   "source": [
    "from sklearn.preprocessing import StandardScaler\n",
    " \n",
    "# uji akurasi model\n",
    "model.score(X_test, y_test)"
   ]
  }
 ],
 "metadata": {
  "kernelspec": {
   "display_name": "Python 3",
   "language": "python",
   "name": "python3"
  },
  "language_info": {
   "codemirror_mode": {
    "name": "ipython",
    "version": 3
   },
   "file_extension": ".py",
   "mimetype": "text/x-python",
   "name": "python",
   "nbconvert_exporter": "python",
   "pygments_lexer": "ipython3",
   "version": "3.7.10"
  },
  "papermill": {
   "default_parameters": {},
   "duration": 11.866838,
   "end_time": "2021-07-14T04:41:04.455639",
   "environment_variables": {},
   "exception": null,
   "input_path": "__notebook__.ipynb",
   "output_path": "__notebook__.ipynb",
   "parameters": {},
   "start_time": "2021-07-14T04:40:52.588801",
   "version": "2.3.3"
  }
 },
 "nbformat": 4,
 "nbformat_minor": 5
}
